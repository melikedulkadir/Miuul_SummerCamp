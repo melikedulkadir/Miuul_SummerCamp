{
 "cells": [
  {
   "cell_type": "markdown",
   "source": [
    "# SALARY PREDICTION"
   ],
   "metadata": {
    "collapsed": false,
    "pycharm": {
     "name": "#%% md\n"
    }
   }
  },
  {
   "cell_type": "code",
   "execution_count": 634,
   "outputs": [],
   "source": [
    "import warnings\n",
    "from sklearn.metrics import mean_squared_error\n",
    "from sklearn.preprocessing import StandardScaler\n",
    "\n",
    "from helpers.data_prep import *\n",
    "from helpers.eda import *\n",
    "from sklearn.model_selection import train_test_split, GridSearchCV\n",
    "\n",
    "from catboost import CatBoostRegressor\n",
    "from lightgbm import LGBMRegressor\n",
    "from sklearn.ensemble import RandomForestRegressor, GradientBoostingRegressor\n",
    "from sklearn.linear_model import LinearRegression, Ridge, Lasso, ElasticNet\n",
    "from sklearn.neighbors import KNeighborsRegressor\n",
    "from sklearn.svm import SVR\n",
    "from sklearn.tree import DecisionTreeRegressor\n",
    "from xgboost import XGBRegressor\n",
    "\n",
    "pd.set_option('display.max_columns', None)\n",
    "pd.set_option('display.width', 170)\n",
    "pd.set_option('display.max_rows', 20)\n",
    "pd.set_option('display.float_format', lambda x: '%.3f' % x)\n",
    "\n",
    "from pandas.core.common import SettingWithCopyWarning\n",
    "from sklearn.exceptions import ConvergenceWarning\n",
    "\n",
    "warnings.simplefilter(action='ignore', category=FutureWarning)\n",
    "warnings.simplefilter(action=\"ignore\", category=ConvergenceWarning)\n",
    "warnings.simplefilter(action=\"ignore\", category=SettingWithCopyWarning)"
   ],
   "metadata": {
    "collapsed": false,
    "pycharm": {
     "name": "#%%\n"
    }
   }
  },
  {
   "cell_type": "markdown",
   "source": [
    "## Some functions to be used in the rest of the project"
   ],
   "metadata": {
    "collapsed": false,
    "pycharm": {
     "name": "#%% md\n"
    }
   }
  },
  {
   "cell_type": "code",
   "execution_count": 635,
   "outputs": [],
   "source": [
    "# This function allows us to see the RMSE values of other models\n",
    "def all_models(X, y, test_size=0.2, random_state=1):\n",
    "\n",
    "    X_train, X_test, y_train, y_test = train_test_split(X, y, test_size=0.20, random_state=random_state)\n",
    "    all_models = []\n",
    "\n",
    "    models = [('LR', LinearRegression()),\n",
    "              (\"Ridge\", Ridge()),\n",
    "              (\"Lasso\", Lasso()),\n",
    "              (\"ElasticNet\", ElasticNet()),\n",
    "              ('KNN', KNeighborsRegressor()),\n",
    "              ('CART', DecisionTreeRegressor()),\n",
    "              ('RF', RandomForestRegressor()),\n",
    "              ('SVR', SVR()),\n",
    "              ('GBM', GradientBoostingRegressor()),\n",
    "              (\"XGBoost\", XGBRegressor()),\n",
    "              (\"LightGBM\", LGBMRegressor()),\n",
    "              (\"CatBoost\", CatBoostRegressor(verbose=False))]\n",
    "\n",
    "    for name, model in models:\n",
    "        model.fit(X_train, y_train)\n",
    "        y_pred_test = model.predict(X_test)\n",
    "        y_pred_train = model.predict(X_train)\n",
    "        rmse_test = np.sqrt(mean_squared_error(y_test, y_pred_test))\n",
    "        rmse_train = np.sqrt(mean_squared_error(y_train, y_pred_train))\n",
    "        values = dict(name=name, RMSE_TRAIN=rmse_train, RMSE_TEST=rmse_test)\n",
    "        all_models.append(values)\n",
    "\n",
    "    all_models_df = pd.DataFrame(all_models)\n",
    "    all_models_df = all_models_df.sort_values(all_models_df.columns[2], ascending=True)\n",
    "    return all_models_df"
   ],
   "metadata": {
    "collapsed": false,
    "pycharm": {
     "name": "#%%\n"
    }
   }
  },
  {
   "cell_type": "code",
   "execution_count": 636,
   "outputs": [],
   "source": [
    "# This function visualizes the importance of features\n",
    "def plot_importance(model, features, save=False):\n",
    "\n",
    "    feature_imp = pd.DataFrame({'Value': model.feature_importances_, 'Feature': features.columns})\n",
    "    plt.figure(figsize=(10, 10))\n",
    "    sns.set(font_scale=1)\n",
    "    sns.barplot(x=\"Value\", y=\"Feature\", data=feature_imp.sort_values(by=\"Value\",\n",
    "                                                                     ascending=False)[0:len(features)])\n",
    "    plt.title('Features')\n",
    "    plt.tight_layout()\n",
    "    plt.show()\n",
    "    if save:\n",
    "        plt.savefig('importances.png')"
   ],
   "metadata": {
    "collapsed": false,
    "pycharm": {
     "name": "#%%\n"
    }
   }
  },
  {
   "cell_type": "markdown",
   "source": [
    "## Examining data with helper functions in the helpers folder"
   ],
   "metadata": {
    "collapsed": false,
    "pycharm": {
     "name": "#%% md\n"
    }
   }
  },
  {
   "cell_type": "code",
   "execution_count": 637,
   "outputs": [
    {
     "data": {
      "text/plain": "   AtBat  Hits  HmRun  Runs  RBI  Walks  Years  CAtBat  CHits  CHmRun  CRuns  CRBI  CWalks League Division  PutOuts  Assists  Errors  Salary NewLeague\n0    293    66      1    30   29     14      1     293     66       1     30    29      14      A        E      446       33      20     NaN         A\n1    315    81      7    24   38     39     14    3449    835      69    321   414     375      N        W      632       43      10 475.000         N\n2    479   130     18    66   72     76      3    1624    457      63    224   266     263      A        W      880       82      14 480.000         A\n3    496   141     20    65   78     37     11    5628   1575     225    828   838     354      N        E      200       11       3 500.000         N\n4    321    87     10    39   42     30      2     396    101      12     48    46      33      N        E      805       40       4  91.500         N",
      "text/html": "<div>\n<style scoped>\n    .dataframe tbody tr th:only-of-type {\n        vertical-align: middle;\n    }\n\n    .dataframe tbody tr th {\n        vertical-align: top;\n    }\n\n    .dataframe thead th {\n        text-align: right;\n    }\n</style>\n<table border=\"1\" class=\"dataframe\">\n  <thead>\n    <tr style=\"text-align: right;\">\n      <th></th>\n      <th>AtBat</th>\n      <th>Hits</th>\n      <th>HmRun</th>\n      <th>Runs</th>\n      <th>RBI</th>\n      <th>Walks</th>\n      <th>Years</th>\n      <th>CAtBat</th>\n      <th>CHits</th>\n      <th>CHmRun</th>\n      <th>CRuns</th>\n      <th>CRBI</th>\n      <th>CWalks</th>\n      <th>League</th>\n      <th>Division</th>\n      <th>PutOuts</th>\n      <th>Assists</th>\n      <th>Errors</th>\n      <th>Salary</th>\n      <th>NewLeague</th>\n    </tr>\n  </thead>\n  <tbody>\n    <tr>\n      <th>0</th>\n      <td>293</td>\n      <td>66</td>\n      <td>1</td>\n      <td>30</td>\n      <td>29</td>\n      <td>14</td>\n      <td>1</td>\n      <td>293</td>\n      <td>66</td>\n      <td>1</td>\n      <td>30</td>\n      <td>29</td>\n      <td>14</td>\n      <td>A</td>\n      <td>E</td>\n      <td>446</td>\n      <td>33</td>\n      <td>20</td>\n      <td>NaN</td>\n      <td>A</td>\n    </tr>\n    <tr>\n      <th>1</th>\n      <td>315</td>\n      <td>81</td>\n      <td>7</td>\n      <td>24</td>\n      <td>38</td>\n      <td>39</td>\n      <td>14</td>\n      <td>3449</td>\n      <td>835</td>\n      <td>69</td>\n      <td>321</td>\n      <td>414</td>\n      <td>375</td>\n      <td>N</td>\n      <td>W</td>\n      <td>632</td>\n      <td>43</td>\n      <td>10</td>\n      <td>475.000</td>\n      <td>N</td>\n    </tr>\n    <tr>\n      <th>2</th>\n      <td>479</td>\n      <td>130</td>\n      <td>18</td>\n      <td>66</td>\n      <td>72</td>\n      <td>76</td>\n      <td>3</td>\n      <td>1624</td>\n      <td>457</td>\n      <td>63</td>\n      <td>224</td>\n      <td>266</td>\n      <td>263</td>\n      <td>A</td>\n      <td>W</td>\n      <td>880</td>\n      <td>82</td>\n      <td>14</td>\n      <td>480.000</td>\n      <td>A</td>\n    </tr>\n    <tr>\n      <th>3</th>\n      <td>496</td>\n      <td>141</td>\n      <td>20</td>\n      <td>65</td>\n      <td>78</td>\n      <td>37</td>\n      <td>11</td>\n      <td>5628</td>\n      <td>1575</td>\n      <td>225</td>\n      <td>828</td>\n      <td>838</td>\n      <td>354</td>\n      <td>N</td>\n      <td>E</td>\n      <td>200</td>\n      <td>11</td>\n      <td>3</td>\n      <td>500.000</td>\n      <td>N</td>\n    </tr>\n    <tr>\n      <th>4</th>\n      <td>321</td>\n      <td>87</td>\n      <td>10</td>\n      <td>39</td>\n      <td>42</td>\n      <td>30</td>\n      <td>2</td>\n      <td>396</td>\n      <td>101</td>\n      <td>12</td>\n      <td>48</td>\n      <td>46</td>\n      <td>33</td>\n      <td>N</td>\n      <td>E</td>\n      <td>805</td>\n      <td>40</td>\n      <td>4</td>\n      <td>91.500</td>\n      <td>N</td>\n    </tr>\n  </tbody>\n</table>\n</div>"
     },
     "execution_count": 637,
     "metadata": {},
     "output_type": "execute_result"
    }
   ],
   "source": [
    "df = load_csv(\"hitters.csv\")\n",
    "df.head()"
   ],
   "metadata": {
    "collapsed": false,
    "pycharm": {
     "name": "#%%\n"
    }
   }
  },
  {
   "cell_type": "code",
   "execution_count": 638,
   "outputs": [
    {
     "name": "stdout",
     "output_type": "stream",
     "text": [
      "##################### Shape #####################\n",
      "(322, 20)\n",
      "##################### Types #####################\n",
      "AtBat          int64\n",
      "Hits           int64\n",
      "HmRun          int64\n",
      "Runs           int64\n",
      "RBI            int64\n",
      "Walks          int64\n",
      "Years          int64\n",
      "CAtBat         int64\n",
      "CHits          int64\n",
      "CHmRun         int64\n",
      "CRuns          int64\n",
      "CRBI           int64\n",
      "CWalks         int64\n",
      "League        object\n",
      "Division      object\n",
      "PutOuts        int64\n",
      "Assists        int64\n",
      "Errors         int64\n",
      "Salary       float64\n",
      "NewLeague     object\n",
      "dtype: object\n",
      "##################### Head #####################\n",
      "   AtBat  Hits  HmRun  Runs  RBI  Walks  Years  CAtBat  CHits  CHmRun  CRuns  CRBI  CWalks League Division  PutOuts  Assists  Errors  Salary NewLeague\n",
      "0    293    66      1    30   29     14      1     293     66       1     30    29      14      A        E      446       33      20     NaN         A\n",
      "1    315    81      7    24   38     39     14    3449    835      69    321   414     375      N        W      632       43      10 475.000         N\n",
      "2    479   130     18    66   72     76      3    1624    457      63    224   266     263      A        W      880       82      14 480.000         A\n",
      "3    496   141     20    65   78     37     11    5628   1575     225    828   838     354      N        E      200       11       3 500.000         N\n",
      "4    321    87     10    39   42     30      2     396    101      12     48    46      33      N        E      805       40       4  91.500         N\n",
      "##################### Tail #####################\n",
      "     AtBat  Hits  HmRun  Runs  RBI  Walks  Years  CAtBat  CHits  CHmRun  CRuns  CRBI  CWalks League Division  PutOuts  Assists  Errors   Salary NewLeague\n",
      "317    497   127      7    65   48     37      5    2703    806      32    379   311     138      N        E      325        9       3  700.000         N\n",
      "318    492   136      5    76   50     94     12    5511   1511      39    897   451     875      A        E      313      381      20  875.000         A\n",
      "319    475   126      3    61   43     52      6    1700    433       7    217    93     146      A        W       37      113       7  385.000         A\n",
      "320    573   144      9    85   60     78      8    3198    857      97    470   420     332      A        E     1314      131      12  960.000         A\n",
      "321    631   170      9    77   44     31     11    4908   1457      30    775   357     249      A        W      408        4       3 1000.000         A\n",
      "##################### NA #####################\n",
      "AtBat         0\n",
      "Hits          0\n",
      "HmRun         0\n",
      "Runs          0\n",
      "RBI           0\n",
      "Walks         0\n",
      "Years         0\n",
      "CAtBat        0\n",
      "CHits         0\n",
      "CHmRun        0\n",
      "CRuns         0\n",
      "CRBI          0\n",
      "CWalks        0\n",
      "League        0\n",
      "Division      0\n",
      "PutOuts       0\n",
      "Assists       0\n",
      "Errors        0\n",
      "Salary       59\n",
      "NewLeague     0\n",
      "dtype: int64\n",
      "##################### Quantiles #####################\n",
      "         0.000   0.050    0.500    0.950    0.990     1.000\n",
      "AtBat   16.000 161.000  379.500  609.900  658.590   687.000\n",
      "Hits     1.000  39.000   96.000  174.000  210.790   238.000\n",
      "HmRun    0.000   0.000    8.000   28.950   33.000    40.000\n",
      "Runs     0.000  17.000   48.000   94.000  107.790   130.000\n",
      "RBI      0.000  14.000   44.000   96.000  112.370   121.000\n",
      "Walks    0.000  11.050   35.000   78.000   93.580   105.000\n",
      "Years    1.000   1.000    6.000   17.000   19.790    24.000\n",
      "CAtBat  19.000 216.500 1928.000 7125.600 8749.970 14053.000\n",
      "CHits    4.000  54.000  508.000 2017.150 2500.340  4256.000\n",
      "CHmRun   0.000   2.000   37.500  265.650  373.120   548.000\n",
      "CRuns    1.000  27.000  247.000 1032.300 1174.370  2165.000\n",
      "CRBI     0.000  22.050  220.500 1071.750 1310.850  1659.000\n",
      "CWalks   0.000  15.050  170.500  817.600 1139.140  1566.000\n",
      "PutOuts  0.000  33.200  212.000  910.650 1301.190  1378.000\n",
      "Assists  0.000   0.000   39.500  431.450  478.160   492.000\n",
      "Errors   0.000   0.000    6.000   20.000   25.790    32.000\n",
      "Salary  67.500  86.600  425.000 1346.000 2032.887  2460.000\n"
     ]
    }
   ],
   "source": [
    "check_df(df)"
   ],
   "metadata": {
    "collapsed": false,
    "pycharm": {
     "name": "#%%\n"
    }
   }
  },
  {
   "cell_type": "code",
   "execution_count": 639,
   "outputs": [
    {
     "name": "stdout",
     "output_type": "stream",
     "text": [
      "Observations: 322\n",
      "Variables: 20\n",
      "cat_cols: 3\n",
      "num_cols: 17\n",
      "cat_but_car: 0\n",
      "num_but_cat: 0\n"
     ]
    }
   ],
   "source": [
    "cat_cols, num_cols, cat_but_car = grab_col_names(df)"
   ],
   "metadata": {
    "collapsed": false,
    "pycharm": {
     "name": "#%%\n"
    }
   }
  },
  {
   "cell_type": "code",
   "execution_count": 640,
   "outputs": [
    {
     "name": "stdout",
     "output_type": "stream",
     "text": [
      "   League  Ratio\n",
      "A     175 54.348\n",
      "N     147 45.652\n",
      "##########################################\n",
      "        TARGET_MEAN\n",
      "League             \n",
      "A           542.000\n",
      "N           529.118\n",
      "\n",
      "\n",
      "   Division  Ratio\n",
      "W       165 51.242\n",
      "E       157 48.758\n",
      "##########################################\n",
      "          TARGET_MEAN\n",
      "Division             \n",
      "E             624.271\n",
      "W             450.877\n",
      "\n",
      "\n",
      "   NewLeague  Ratio\n",
      "A        176 54.658\n",
      "N        146 45.342\n",
      "##########################################\n",
      "           TARGET_MEAN\n",
      "NewLeague             \n",
      "A              537.113\n",
      "N              534.554\n",
      "\n",
      "\n"
     ]
    }
   ],
   "source": [
    "for cat in cat_cols:\n",
    "    cat_summary(df,cat)\n",
    "    target_summary_with_cat(df,\"Salary\",cat)"
   ],
   "metadata": {
    "collapsed": false,
    "pycharm": {
     "name": "#%%\n"
    }
   }
  },
  {
   "cell_type": "code",
   "execution_count": 641,
   "outputs": [
    {
     "name": "stdout",
     "output_type": "stream",
     "text": [
      "count   322.000\n",
      "mean    380.929\n",
      "std     153.405\n",
      "min      16.000\n",
      "5%      161.000\n",
      "10%     194.100\n",
      "20%     221.800\n",
      "30%     281.300\n",
      "40%     321.800\n",
      "50%     379.500\n",
      "60%     430.200\n",
      "70%     490.000\n",
      "80%     535.600\n",
      "90%     584.900\n",
      "95%     609.900\n",
      "99%     658.590\n",
      "max     687.000\n",
      "Name: AtBat, dtype: float64\n",
      "\n",
      "           AtBat\n",
      "Salary          \n",
      "67.500   181.000\n",
      "68.000   209.000\n",
      "70.000   248.600\n",
      "75.000   236.400\n",
      "80.000   399.000\n",
      "...          ...\n",
      "1940.000 514.000\n",
      "1975.000 677.000\n",
      "2127.333  20.000\n",
      "2412.500 618.000\n",
      "2460.000 495.000\n",
      "\n",
      "[150 rows x 1 columns]\n",
      "\n",
      "\n",
      "count   322.000\n",
      "mean    101.025\n",
      "std      46.455\n",
      "min       1.000\n",
      "5%       39.000\n",
      "10%      45.100\n",
      "20%      57.000\n",
      "30%      70.000\n",
      "40%      82.000\n",
      "50%      96.000\n",
      "60%     113.000\n",
      "70%     128.700\n",
      "80%     144.000\n",
      "90%     163.000\n",
      "95%     174.000\n",
      "99%     210.790\n",
      "max     238.000\n",
      "Name: Hits, dtype: float64\n",
      "\n",
      "            Hits\n",
      "Salary          \n",
      "67.500    41.000\n",
      "68.000    54.000\n",
      "70.000    57.400\n",
      "75.000    58.200\n",
      "80.000   102.000\n",
      "...          ...\n",
      "1940.000 144.000\n",
      "1975.000 238.000\n",
      "2127.333   1.000\n",
      "2412.500 200.000\n",
      "2460.000 151.000\n",
      "\n",
      "[150 rows x 1 columns]\n",
      "\n",
      "\n",
      "count   322.000\n",
      "mean     10.770\n",
      "std       8.709\n",
      "min       0.000\n",
      "5%        0.000\n",
      "10%       1.000\n",
      "20%       3.000\n",
      "30%       5.000\n",
      "40%       6.000\n",
      "50%       8.000\n",
      "60%      10.600\n",
      "70%      14.000\n",
      "80%      18.000\n",
      "90%      24.000\n",
      "95%      28.950\n",
      "99%      33.000\n",
      "max      40.000\n",
      "Name: HmRun, dtype: float64\n",
      "\n",
      "          HmRun\n",
      "Salary         \n",
      "67.500    1.000\n",
      "68.000    3.000\n",
      "70.000    3.200\n",
      "75.000    3.000\n",
      "80.000    3.000\n",
      "...         ...\n",
      "1940.000  0.000\n",
      "1975.000 31.000\n",
      "2127.333  0.000\n",
      "2412.500 20.000\n",
      "2460.000 17.000\n",
      "\n",
      "[150 rows x 1 columns]\n",
      "\n",
      "\n",
      "count   322.000\n",
      "mean     50.910\n",
      "std      26.024\n",
      "min       0.000\n",
      "5%       17.000\n",
      "10%      20.100\n",
      "20%      27.000\n",
      "30%      33.000\n",
      "40%      41.000\n",
      "50%      48.000\n",
      "60%      55.600\n",
      "70%      66.000\n",
      "80%      75.800\n",
      "90%      89.000\n",
      "95%      94.000\n",
      "99%     107.790\n",
      "max     130.000\n",
      "Name: Runs, dtype: float64\n",
      "\n",
      "            Runs\n",
      "Salary          \n",
      "67.500    15.000\n",
      "68.000    25.000\n",
      "70.000    27.800\n",
      "75.000    25.200\n",
      "80.000    56.000\n",
      "...          ...\n",
      "1940.000  67.000\n",
      "1975.000 117.000\n",
      "2127.333   0.000\n",
      "2412.500  98.000\n",
      "2460.000  61.000\n",
      "\n",
      "[150 rows x 1 columns]\n",
      "\n",
      "\n",
      "count   322.000\n",
      "mean     48.028\n",
      "std      26.167\n",
      "min       0.000\n",
      "5%       14.000\n",
      "10%      19.000\n",
      "20%      26.000\n",
      "30%      30.000\n",
      "40%      36.400\n",
      "50%      44.000\n",
      "60%      49.000\n",
      "70%      58.000\n",
      "80%      73.000\n",
      "90%      86.000\n",
      "95%      96.000\n",
      "99%     112.370\n",
      "max     121.000\n",
      "Name: RBI, dtype: float64\n",
      "\n",
      "             RBI\n",
      "Salary          \n",
      "67.500    21.000\n",
      "68.000    14.000\n",
      "70.000    22.400\n",
      "75.000    22.800\n",
      "80.000    34.000\n",
      "...          ...\n",
      "1940.000  54.000\n",
      "1975.000 113.000\n",
      "2127.333   0.000\n",
      "2412.500 110.000\n",
      "2460.000  84.000\n",
      "\n",
      "[150 rows x 1 columns]\n",
      "\n",
      "\n",
      "count   322.000\n",
      "mean     38.742\n",
      "std      21.639\n",
      "min       0.000\n",
      "5%       11.050\n",
      "10%      15.000\n",
      "20%      20.000\n",
      "30%      24.000\n",
      "40%      30.000\n",
      "50%      35.000\n",
      "60%      40.000\n",
      "70%      48.700\n",
      "80%      59.000\n",
      "90%      69.900\n",
      "95%      78.000\n",
      "99%      93.580\n",
      "max     105.000\n",
      "Name: Walks, dtype: float64\n",
      "\n",
      "          Walks\n",
      "Salary         \n",
      "67.500   33.000\n",
      "68.000   12.000\n",
      "70.000   22.200\n",
      "75.000   21.600\n",
      "80.000   34.000\n",
      "...         ...\n",
      "1940.000 79.000\n",
      "1975.000 53.000\n",
      "2127.333  0.000\n",
      "2412.500 62.000\n",
      "2460.000 78.000\n",
      "\n",
      "[150 rows x 1 columns]\n",
      "\n",
      "\n",
      "count   322.000\n",
      "mean      7.444\n",
      "std       4.926\n",
      "min       1.000\n",
      "5%        1.000\n",
      "10%       2.000\n",
      "20%       3.000\n",
      "30%       4.000\n",
      "40%       5.000\n",
      "50%       6.000\n",
      "60%       7.600\n",
      "70%      10.000\n",
      "80%      12.000\n",
      "90%      15.000\n",
      "95%      17.000\n",
      "99%      19.790\n",
      "max      24.000\n",
      "Name: Years, dtype: float64\n",
      "\n",
      "          Years\n",
      "Salary         \n",
      "67.500    2.000\n",
      "68.000    1.000\n",
      "70.000    1.400\n",
      "75.000    2.000\n",
      "80.000    5.000\n",
      "...         ...\n",
      "1940.000  9.000\n",
      "1975.000  5.000\n",
      "2127.333  2.000\n",
      "2412.500 13.000\n",
      "2460.000 10.000\n",
      "\n",
      "[150 rows x 1 columns]\n",
      "\n",
      "\n",
      "count     322.000\n",
      "mean     2648.683\n",
      "std      2324.206\n",
      "min        19.000\n",
      "5%        216.500\n",
      "10%       342.200\n",
      "20%       667.600\n",
      "30%       963.400\n",
      "40%      1402.200\n",
      "50%      1928.000\n",
      "60%      2654.000\n",
      "70%      3365.000\n",
      "80%      4483.000\n",
      "90%      6123.400\n",
      "95%      7125.600\n",
      "99%      8749.970\n",
      "max     14053.000\n",
      "Name: CAtBat, dtype: float64\n",
      "\n",
      "           CAtBat\n",
      "Salary           \n",
      "67.500    232.000\n",
      "68.000    209.000\n",
      "70.000    256.800\n",
      "75.000    309.200\n",
      "80.000    670.000\n",
      "...           ...\n",
      "1940.000 4739.000\n",
      "1975.000 2223.000\n",
      "2127.333   41.000\n",
      "2412.500 7127.000\n",
      "2460.000 5624.000\n",
      "\n",
      "[150 rows x 1 columns]\n",
      "\n",
      "\n",
      "count    322.000\n",
      "mean     717.571\n",
      "std      654.473\n",
      "min        4.000\n",
      "5%        54.000\n",
      "10%       86.000\n",
      "20%      164.600\n",
      "30%      238.000\n",
      "40%      355.800\n",
      "50%      508.000\n",
      "60%      708.200\n",
      "70%      911.100\n",
      "80%     1229.200\n",
      "90%     1659.600\n",
      "95%     2017.150\n",
      "99%     2500.340\n",
      "max     4256.000\n",
      "Name: CHits, dtype: float64\n",
      "\n",
      "            CHits\n",
      "Salary           \n",
      "67.500     50.000\n",
      "68.000     54.000\n",
      "70.000     59.600\n",
      "75.000     73.600\n",
      "80.000    167.000\n",
      "...           ...\n",
      "1940.000 1169.000\n",
      "1975.000  737.000\n",
      "2127.333    9.000\n",
      "2412.500 2163.000\n",
      "2460.000 1679.000\n",
      "\n",
      "[150 rows x 1 columns]\n",
      "\n",
      "\n",
      "count   322.000\n",
      "mean     69.491\n",
      "std      86.266\n",
      "min       0.000\n",
      "5%        2.000\n",
      "10%       4.000\n",
      "20%      10.200\n",
      "30%      16.300\n",
      "40%      27.400\n",
      "50%      37.500\n",
      "60%      51.200\n",
      "70%      72.400\n",
      "80%     103.800\n",
      "90%     194.900\n",
      "95%     265.650\n",
      "99%     373.120\n",
      "max     548.000\n",
      "Name: CHmRun, dtype: float64\n",
      "\n",
      "          CHmRun\n",
      "Salary          \n",
      "67.500     4.000\n",
      "68.000     3.000\n",
      "70.000     3.200\n",
      "75.000     3.600\n",
      "80.000     4.000\n",
      "...          ...\n",
      "1940.000  13.000\n",
      "1975.000  93.000\n",
      "2127.333   2.000\n",
      "2412.500 351.000\n",
      "2460.000 275.000\n",
      "\n",
      "[150 rows x 1 columns]\n",
      "\n",
      "\n",
      "count    322.000\n",
      "mean     358.795\n",
      "std      334.106\n",
      "min        1.000\n",
      "5%        27.000\n",
      "10%       38.100\n",
      "20%       80.400\n",
      "30%      117.300\n",
      "40%      181.000\n",
      "50%      247.000\n",
      "60%      333.000\n",
      "70%      443.400\n",
      "80%      627.200\n",
      "90%      895.700\n",
      "95%     1032.300\n",
      "99%     1174.370\n",
      "max     2165.000\n",
      "Name: CRuns, dtype: float64\n",
      "\n",
      "            CRuns\n",
      "Salary           \n",
      "67.500     20.000\n",
      "68.000     25.000\n",
      "70.000     29.600\n",
      "75.000     33.000\n",
      "80.000     89.000\n",
      "...           ...\n",
      "1940.000  583.000\n",
      "1975.000  349.000\n",
      "2127.333    6.000\n",
      "2412.500 1104.000\n",
      "2460.000  884.000\n",
      "\n",
      "[150 rows x 1 columns]\n",
      "\n",
      "\n",
      "count    322.000\n",
      "mean     330.118\n",
      "std      333.220\n",
      "min        0.000\n",
      "5%        22.050\n",
      "10%       34.100\n",
      "20%       70.200\n",
      "30%      106.300\n",
      "40%      149.000\n",
      "50%      220.500\n",
      "60%      303.600\n",
      "70%      379.100\n",
      "80%      496.200\n",
      "90%      861.600\n",
      "95%     1071.750\n",
      "99%     1310.850\n",
      "max     1659.000\n",
      "Name: CRBI, dtype: float64\n",
      "\n",
      "             CRBI\n",
      "Salary           \n",
      "67.500     29.000\n",
      "68.000     14.000\n",
      "70.000     23.200\n",
      "75.000     27.000\n",
      "80.000     48.000\n",
      "...           ...\n",
      "1940.000  374.000\n",
      "1975.000  401.000\n",
      "2127.333    7.000\n",
      "2412.500 1289.000\n",
      "2460.000 1015.000\n",
      "\n",
      "[150 rows x 1 columns]\n",
      "\n",
      "\n",
      "count    322.000\n",
      "mean     260.239\n",
      "std      267.058\n",
      "min        0.000\n",
      "5%        15.050\n",
      "10%       30.100\n",
      "20%       55.000\n",
      "30%       82.000\n",
      "40%      117.400\n",
      "50%      170.500\n",
      "60%      226.600\n",
      "70%      300.700\n",
      "80%      421.000\n",
      "90%      643.900\n",
      "95%      817.600\n",
      "99%     1139.140\n",
      "max     1566.000\n",
      "Name: CWalks, dtype: float64\n",
      "\n",
      "          CWalks\n",
      "Salary          \n",
      "67.500    45.000\n",
      "68.000    12.000\n",
      "70.000    23.600\n",
      "75.000    25.600\n",
      "80.000    54.000\n",
      "...          ...\n",
      "1940.000 528.000\n",
      "1975.000 171.000\n",
      "2127.333   4.000\n",
      "2412.500 564.000\n",
      "2460.000 709.000\n",
      "\n",
      "[150 rows x 1 columns]\n",
      "\n",
      "\n",
      "count    322.000\n",
      "mean     288.938\n",
      "std      280.705\n",
      "min        0.000\n",
      "5%        33.200\n",
      "10%       62.200\n",
      "20%       99.600\n",
      "30%      132.000\n",
      "40%      167.000\n",
      "50%      212.000\n",
      "60%      257.400\n",
      "70%      303.000\n",
      "80%      365.800\n",
      "90%      685.600\n",
      "95%      910.650\n",
      "99%     1301.190\n",
      "max     1378.000\n",
      "Name: PutOuts, dtype: float64\n",
      "\n",
      "          PutOuts\n",
      "Salary           \n",
      "67.500    326.000\n",
      "68.000    102.000\n",
      "70.000     86.400\n",
      "75.000    210.200\n",
      "80.000    211.000\n",
      "...           ...\n",
      "1940.000  229.000\n",
      "1975.000 1377.000\n",
      "2127.333   78.000\n",
      "2412.500  330.000\n",
      "2460.000 1045.000\n",
      "\n",
      "[150 rows x 1 columns]\n",
      "\n",
      "\n",
      "count   322.000\n",
      "mean    106.913\n",
      "std     136.855\n",
      "min       0.000\n",
      "5%        0.000\n",
      "10%       2.000\n",
      "20%       5.200\n",
      "30%       9.000\n",
      "40%      15.400\n",
      "50%      39.500\n",
      "60%      76.800\n",
      "70%     134.800\n",
      "80%     210.800\n",
      "90%     353.300\n",
      "95%     431.450\n",
      "99%     478.160\n",
      "max     492.000\n",
      "Name: Assists, dtype: float64\n",
      "\n",
      "          Assists\n",
      "Salary           \n",
      "67.500     29.000\n",
      "68.000      6.000\n",
      "70.000     82.200\n",
      "75.000    110.600\n",
      "80.000      9.000\n",
      "...           ...\n",
      "1940.000  453.000\n",
      "1975.000  100.000\n",
      "2127.333  220.000\n",
      "2412.500   16.000\n",
      "2460.000   88.000\n",
      "\n",
      "[150 rows x 1 columns]\n",
      "\n",
      "\n",
      "count   322.000\n",
      "mean      8.040\n",
      "std       6.368\n",
      "min       0.000\n",
      "5%        0.000\n",
      "10%       1.000\n",
      "20%       3.000\n",
      "30%       4.000\n",
      "40%       5.000\n",
      "50%       6.000\n",
      "60%       8.000\n",
      "70%      10.000\n",
      "80%      13.000\n",
      "90%      17.000\n",
      "95%      20.000\n",
      "99%      25.790\n",
      "max      32.000\n",
      "Name: Errors, dtype: float64\n",
      "\n",
      "          Errors\n",
      "Salary          \n",
      "67.500     5.000\n",
      "68.000     3.000\n",
      "70.000    12.600\n",
      "75.000     8.600\n",
      "80.000     3.000\n",
      "...          ...\n",
      "1940.000  15.000\n",
      "1975.000   6.000\n",
      "2127.333   6.000\n",
      "2412.500   8.000\n",
      "2460.000  13.000\n",
      "\n",
      "[150 rows x 1 columns]\n",
      "\n",
      "\n"
     ]
    }
   ],
   "source": [
    "for num in num_cols:\n",
    "    if num != \"Salary\":\n",
    "        num_summary(df,num)\n",
    "        target_summary_with_num(df,\"Salary\",num)"
   ],
   "metadata": {
    "collapsed": false,
    "pycharm": {
     "name": "#%%\n"
    }
   }
  },
  {
   "cell_type": "markdown",
   "source": [
    "## Correlation analysis"
   ],
   "metadata": {
    "collapsed": false,
    "pycharm": {
     "name": "#%% md\n"
    }
   }
  },
  {
   "cell_type": "code",
   "execution_count": 642,
   "outputs": [
    {
     "data": {
      "text/plain": "['Hits', 'Runs', 'CAtBat', 'CHits', 'CRuns', 'CRBI', 'CWalks']"
     },
     "execution_count": 642,
     "metadata": {},
     "output_type": "execute_result"
    }
   ],
   "source": [
    "high_correlated_cols(df)"
   ],
   "metadata": {
    "collapsed": false,
    "pycharm": {
     "name": "#%%\n"
    }
   }
  },
  {
   "cell_type": "code",
   "execution_count": 643,
   "outputs": [
    {
     "data": {
      "text/plain": "<Figure size 720x720 with 4 Axes>",
      "image/png": "[encoded data removed]"
     },
     "metadata": {},
     "output_type": "display_data"
    },
    {
     "data": {
      "text/plain": "['CAtBat', 'CHits', 'CHmRun', 'CRuns', 'CRBI', 'Salary']"
     },
     "execution_count": 643,
     "metadata": {},
     "output_type": "execute_result"
    }
   ],
   "source": [
    "target_correlation_matrix(df)"
   ],
   "metadata": {
    "collapsed": false,
    "pycharm": {
     "name": "#%%\n"
    }
   }
  },
  {
   "cell_type": "markdown",
   "source": [
    "## Outlier analysis"
   ],
   "metadata": {
    "collapsed": false,
    "pycharm": {
     "name": "#%% md\n"
    }
   }
  },
  {
   "cell_type": "code",
   "execution_count": 644,
   "outputs": [
    {
     "name": "stdout",
     "output_type": "stream",
     "text": [
      "AtBat False\n",
      "Hits False\n",
      "HmRun False\n",
      "Runs False\n",
      "RBI False\n",
      "Walks False\n",
      "Years False\n",
      "CAtBat False\n",
      "CHits True\n",
      "CHmRun True\n",
      "CRuns False\n",
      "CRBI False\n",
      "CWalks True\n",
      "PutOuts False\n",
      "Assists False\n",
      "Errors False\n",
      "Salary False\n"
     ]
    }
   ],
   "source": [
    "for col in num_cols:\n",
    "    print(col,check_outlier(df,col,0.1,0.90))"
   ],
   "metadata": {
    "collapsed": false,
    "pycharm": {
     "name": "#%%\n"
    }
   }
  },
  {
   "cell_type": "markdown",
   "source": [
    "## Missing value analysis"
   ],
   "metadata": {
    "collapsed": false,
    "pycharm": {
     "name": "#%% md\n"
    }
   }
  },
  {
   "cell_type": "code",
   "execution_count": 645,
   "outputs": [
    {
     "name": "stdout",
     "output_type": "stream",
     "text": [
      "        n_miss  ratio\n",
      "Salary      59 18.320\n"
     ]
    }
   ],
   "source": [
    "missing_values_table(df)"
   ],
   "metadata": {
    "collapsed": false,
    "pycharm": {
     "name": "#%%\n"
    }
   }
  },
  {
   "cell_type": "markdown",
   "source": [
    "## Encoding the categorical columns and deleting rows with missing values\n",
    "###### Label encoder is used because categorical columns are in binary format"
   ],
   "metadata": {
    "collapsed": false,
    "pycharm": {
     "name": "#%% md\n"
    }
   }
  },
  {
   "cell_type": "code",
   "execution_count": 646,
   "outputs": [],
   "source": [
    "for col in cat_cols:\n",
    "    label_encoder(df,col)"
   ],
   "metadata": {
    "collapsed": false,
    "pycharm": {
     "name": "#%%\n"
    }
   }
  },
  {
   "cell_type": "code",
   "execution_count": 647,
   "outputs": [],
   "source": [
    "df_null = df[df[\"Salary\"].isnull()]\n",
    "df.dropna(inplace=True)"
   ],
   "metadata": {
    "collapsed": false,
    "pycharm": {
     "name": "#%%\n"
    }
   }
  },
  {
   "cell_type": "code",
   "execution_count": 648,
   "outputs": [],
   "source": [
    "X = df.drop(\"Salary\",axis=1)\n",
    "y = df[\"Salary\"]"
   ],
   "metadata": {
    "collapsed": false,
    "pycharm": {
     "name": "#%%\n"
    }
   }
  },
  {
   "cell_type": "markdown",
   "source": [
    "## Analysing of RMSE values and choosing the model"
   ],
   "metadata": {
    "collapsed": false,
    "pycharm": {
     "name": "#%% md\n"
    }
   }
  },
  {
   "cell_type": "code",
   "execution_count": 649,
   "outputs": [
    {
     "data": {
      "text/plain": "          name  RMSE_TRAIN  RMSE_TEST\n10    LightGBM     143.489    263.528\n11    CatBoost      15.444    277.224\n6           RF     120.481    301.161\n8          GBM      58.410    333.568\n9      XGBoost       0.018    344.320\n2        Lasso     292.011    365.368\n1        Ridge     291.997    365.492\n0           LR     291.993    365.507\n3   ElasticNet     294.855    367.246\n4          KNN     255.177    370.357\n5         CART       0.000    469.659\n7          SVR     444.911    479.036",
      "text/html": "<div>\n<style scoped>\n    .dataframe tbody tr th:only-of-type {\n        vertical-align: middle;\n    }\n\n    .dataframe tbody tr th {\n        vertical-align: top;\n    }\n\n    .dataframe thead th {\n        text-align: right;\n    }\n</style>\n<table border=\"1\" class=\"dataframe\">\n  <thead>\n    <tr style=\"text-align: right;\">\n      <th></th>\n      <th>name</th>\n      <th>RMSE_TRAIN</th>\n      <th>RMSE_TEST</th>\n    </tr>\n  </thead>\n  <tbody>\n    <tr>\n      <th>10</th>\n      <td>LightGBM</td>\n      <td>143.489</td>\n      <td>263.528</td>\n    </tr>\n    <tr>\n      <th>11</th>\n      <td>CatBoost</td>\n      <td>15.444</td>\n      <td>277.224</td>\n    </tr>\n    <tr>\n      <th>6</th>\n      <td>RF</td>\n      <td>120.481</td>\n      <td>301.161</td>\n    </tr>\n    <tr>\n      <th>8</th>\n      <td>GBM</td>\n      <td>58.410</td>\n      <td>333.568</td>\n    </tr>\n    <tr>\n      <th>9</th>\n      <td>XGBoost</td>\n      <td>0.018</td>\n      <td>344.320</td>\n    </tr>\n    <tr>\n      <th>2</th>\n      <td>Lasso</td>\n      <td>292.011</td>\n      <td>365.368</td>\n    </tr>\n    <tr>\n      <th>1</th>\n      <td>Ridge</td>\n      <td>291.997</td>\n      <td>365.492</td>\n    </tr>\n    <tr>\n      <th>0</th>\n      <td>LR</td>\n      <td>291.993</td>\n      <td>365.507</td>\n    </tr>\n    <tr>\n      <th>3</th>\n      <td>ElasticNet</td>\n      <td>294.855</td>\n      <td>367.246</td>\n    </tr>\n    <tr>\n      <th>4</th>\n      <td>KNN</td>\n      <td>255.177</td>\n      <td>370.357</td>\n    </tr>\n    <tr>\n      <th>5</th>\n      <td>CART</td>\n      <td>0.000</td>\n      <td>469.659</td>\n    </tr>\n    <tr>\n      <th>7</th>\n      <td>SVR</td>\n      <td>444.911</td>\n      <td>479.036</td>\n    </tr>\n  </tbody>\n</table>\n</div>"
     },
     "execution_count": 649,
     "metadata": {},
     "output_type": "execute_result"
    }
   ],
   "source": [
    "all_models(X,y)"
   ],
   "metadata": {
    "collapsed": false,
    "pycharm": {
     "name": "#%%\n"
    }
   }
  },
  {
   "cell_type": "code",
   "execution_count": 650,
   "outputs": [],
   "source": [
    "X_train, X_test, y_train, y_test = train_test_split(X, y, test_size=0.20, random_state=1)"
   ],
   "metadata": {
    "collapsed": false,
    "pycharm": {
     "name": "#%%\n"
    }
   }
  },
  {
   "cell_type": "code",
   "execution_count": 651,
   "outputs": [],
   "source": [
    "lightGBM_model = LGBMRegressor(random_state=1).fit(X_train, y_train)"
   ],
   "metadata": {
    "collapsed": false,
    "pycharm": {
     "name": "#%%\n"
    }
   }
  },
  {
   "cell_type": "code",
   "execution_count": 652,
   "outputs": [
    {
     "name": "stdout",
     "output_type": "stream",
     "text": [
      "LightGBM Model Train RMSE: 263.5279248633645\n"
     ]
    }
   ],
   "source": [
    "y_pred = lightGBM_model.predict(X_test)\n",
    "print(\"LightGBM Model Train RMSE:\", np.sqrt(mean_squared_error(y_test, y_pred)))"
   ],
   "metadata": {
    "collapsed": false,
    "pycharm": {
     "name": "#%%\n"
    }
   }
  },
  {
   "cell_type": "markdown",
   "source": [
    "## Replace outliers with threshold values"
   ],
   "metadata": {
    "collapsed": false,
    "pycharm": {
     "name": "#%% md\n"
    }
   }
  },
  {
   "cell_type": "code",
   "execution_count": 653,
   "outputs": [
    {
     "name": "stdout",
     "output_type": "stream",
     "text": [
      "AtBat False\n",
      "Hits False\n",
      "HmRun False\n",
      "Runs False\n",
      "RBI False\n",
      "Walks False\n",
      "Years False\n",
      "CAtBat False\n",
      "CHits False\n",
      "CHmRun False\n",
      "CRuns False\n",
      "CRBI False\n",
      "CWalks False\n",
      "PutOuts False\n",
      "Assists False\n",
      "Errors False\n",
      "Salary False\n"
     ]
    }
   ],
   "source": [
    "for col in num_cols:\n",
    "    replace_with_thresholds(df,col,0.1,0.90)\n",
    "for col in num_cols:\n",
    "    print(col,check_outlier(df,col,0.1,0.90))"
   ],
   "metadata": {
    "collapsed": false,
    "pycharm": {
     "name": "#%%\n"
    }
   }
  },
  {
   "cell_type": "code",
   "execution_count": 654,
   "outputs": [
    {
     "data": {
      "text/plain": "<Figure size 720x720 with 1 Axes>",
      "image/png": "[encoded data removed]"
     },
     "metadata": {},
     "output_type": "display_data"
    }
   ],
   "source": [
    "plot_importance(lightGBM_model,X)"
   ],
   "metadata": {
    "collapsed": false,
    "pycharm": {
     "name": "#%%\n"
    }
   }
  },
  {
   "cell_type": "code",
   "execution_count": 655,
   "outputs": [
    {
     "data": {
      "text/plain": "    ATBAT  HITS  HMRUN  RUNS    RBI  WALKS  YEARS   CATBAT    CHITS  CHMRUN   CRUNS    CRBI  CWALKS  LEAGUE  DIVISION  PUTOUTS  ASSISTS  ERRORS  SALARY  NEWLEAGUE\n1 315.000    81  7.000    24 38.000 39.000     14 3449.000  835.000  69.000 321.000 414.000 375.000       1         1  632.000   43.000      10 475.000          1\n2 479.000   130 18.000    66 72.000 76.000      3 1624.000  457.000  63.000 224.000 266.000 263.000       0         1  880.000   82.000      14 480.000          0\n3 496.000   141 20.000    65 78.000 37.000     11 5628.000 1575.000 225.000 828.000 838.000 354.000       1         0  200.000   11.000       3 500.000          1\n4 321.000    87 10.000    39 42.000 30.000      2  396.000  101.000  12.000  48.000  46.000  33.000       1         0  805.000   40.000       4  91.500          1\n5 594.000   169  4.000    74 51.000 35.000     11 4408.000 1133.000  19.000 501.000 336.000 194.000       0         1  282.000  421.000      25 750.000          0",
      "text/html": "<div>\n<style scoped>\n    .dataframe tbody tr th:only-of-type {\n        vertical-align: middle;\n    }\n\n    .dataframe tbody tr th {\n        vertical-align: top;\n    }\n\n    .dataframe thead th {\n        text-align: right;\n    }\n</style>\n<table border=\"1\" class=\"dataframe\">\n  <thead>\n    <tr style=\"text-align: right;\">\n      <th></th>\n      <th>ATBAT</th>\n      <th>HITS</th>\n      <th>HMRUN</th>\n      <th>RUNS</th>\n      <th>RBI</th>\n      <th>WALKS</th>\n      <th>YEARS</th>\n      <th>CATBAT</th>\n      <th>CHITS</th>\n      <th>CHMRUN</th>\n      <th>CRUNS</th>\n      <th>CRBI</th>\n      <th>CWALKS</th>\n      <th>LEAGUE</th>\n      <th>DIVISION</th>\n      <th>PUTOUTS</th>\n      <th>ASSISTS</th>\n      <th>ERRORS</th>\n      <th>SALARY</th>\n      <th>NEWLEAGUE</th>\n    </tr>\n  </thead>\n  <tbody>\n    <tr>\n      <th>1</th>\n      <td>315.000</td>\n      <td>81</td>\n      <td>7.000</td>\n      <td>24</td>\n      <td>38.000</td>\n      <td>39.000</td>\n      <td>14</td>\n      <td>3449.000</td>\n      <td>835.000</td>\n      <td>69.000</td>\n      <td>321.000</td>\n      <td>414.000</td>\n      <td>375.000</td>\n      <td>1</td>\n      <td>1</td>\n      <td>632.000</td>\n      <td>43.000</td>\n      <td>10</td>\n      <td>475.000</td>\n      <td>1</td>\n    </tr>\n    <tr>\n      <th>2</th>\n      <td>479.000</td>\n      <td>130</td>\n      <td>18.000</td>\n      <td>66</td>\n      <td>72.000</td>\n      <td>76.000</td>\n      <td>3</td>\n      <td>1624.000</td>\n      <td>457.000</td>\n      <td>63.000</td>\n      <td>224.000</td>\n      <td>266.000</td>\n      <td>263.000</td>\n      <td>0</td>\n      <td>1</td>\n      <td>880.000</td>\n      <td>82.000</td>\n      <td>14</td>\n      <td>480.000</td>\n      <td>0</td>\n    </tr>\n    <tr>\n      <th>3</th>\n      <td>496.000</td>\n      <td>141</td>\n      <td>20.000</td>\n      <td>65</td>\n      <td>78.000</td>\n      <td>37.000</td>\n      <td>11</td>\n      <td>5628.000</td>\n      <td>1575.000</td>\n      <td>225.000</td>\n      <td>828.000</td>\n      <td>838.000</td>\n      <td>354.000</td>\n      <td>1</td>\n      <td>0</td>\n      <td>200.000</td>\n      <td>11.000</td>\n      <td>3</td>\n      <td>500.000</td>\n      <td>1</td>\n    </tr>\n    <tr>\n      <th>4</th>\n      <td>321.000</td>\n      <td>87</td>\n      <td>10.000</td>\n      <td>39</td>\n      <td>42.000</td>\n      <td>30.000</td>\n      <td>2</td>\n      <td>396.000</td>\n      <td>101.000</td>\n      <td>12.000</td>\n      <td>48.000</td>\n      <td>46.000</td>\n      <td>33.000</td>\n      <td>1</td>\n      <td>0</td>\n      <td>805.000</td>\n      <td>40.000</td>\n      <td>4</td>\n      <td>91.500</td>\n      <td>1</td>\n    </tr>\n    <tr>\n      <th>5</th>\n      <td>594.000</td>\n      <td>169</td>\n      <td>4.000</td>\n      <td>74</td>\n      <td>51.000</td>\n      <td>35.000</td>\n      <td>11</td>\n      <td>4408.000</td>\n      <td>1133.000</td>\n      <td>19.000</td>\n      <td>501.000</td>\n      <td>336.000</td>\n      <td>194.000</td>\n      <td>0</td>\n      <td>1</td>\n      <td>282.000</td>\n      <td>421.000</td>\n      <td>25</td>\n      <td>750.000</td>\n      <td>0</td>\n    </tr>\n  </tbody>\n</table>\n</div>"
     },
     "execution_count": 655,
     "metadata": {},
     "output_type": "execute_result"
    }
   ],
   "source": [
    "df.columns = [col.upper() for col in df.columns]\n",
    "df.head()"
   ],
   "metadata": {
    "collapsed": false,
    "pycharm": {
     "name": "#%%\n"
    }
   }
  },
  {
   "cell_type": "markdown",
   "source": [
    "## Creating new features from existing columns"
   ],
   "metadata": {
    "collapsed": false,
    "pycharm": {
     "name": "#%% md\n"
    }
   }
  },
  {
   "cell_type": "code",
   "execution_count": 656,
   "outputs": [],
   "source": [
    "df[\"NEW_HITRATIO\"] = df[\"HITS\"]/df[\"ATBAT\"]\n",
    "df[\"NEW_CHITRATIO\"] = df[\"CHITS\"] / df[\"CATBAT\"]\n",
    "\n",
    "df[\"NEW_HIT\"] = df[\"HITS\"] / df[\"CHITS\"]\n",
    "df[\"NEW_ATBAR\"] = df[\"ATBAT\"] / df[\"CATBAT\"]\n",
    "df[\"NEW_RUN\"] = df[\"RUNS\"] / df[\"CRUNS\"]\n",
    "df[\"NEW_CHMRUN\"] = df[\"HMRUN\"] / (df[\"CHMRUN\"]+1)\n",
    "df[\"NEW_RBI\"] = df[\"RBI\"] / df[\"CRBI\"]\n",
    "df[\"NEW_WALK\"] = df[\"WALKS\"] / df[\"CWALKS\"]\n",
    "\n",
    "df[\"NEW_ERRORRATIO\"] = df[\"ERRORS\"] / df[\"ATBAT\"]\n",
    "df[\"NEW_RUNRATIO\"] = df[\"HMRUN\"] / (df[\"RUNS\"]+1)\n",
    "df[\"NEW_CRUNRATIO\"] = df[\"CHMRUN\"] / df[\"CRUNS\"]\n",
    "\n",
    "df[\"NEW_AVG_ATBAT\"] = df[\"CATBAT\"] / df[\"YEARS\"]\n",
    "df[\"NEW_AVG_HITS\"] = df[\"CHITS\"] / df[\"YEARS\"]\n",
    "df[\"NEW_AVG_HMRUNS\"] = df[\"CHMRUN\"] / df[\"YEARS\"]\n",
    "df[\"NEW_AVG_RUNS\"] = df[\"CRUNS\"] / df[\"YEARS\"]\n",
    "df[\"NEW_AVG_RBI\"] = df[\"CRBI\"] / df[\"YEARS\"]\n",
    "df[\"NEW_AVG_WALKS\"] = df[\"CWALKS\"] / df[\"YEARS\"]\n",
    "\n",
    "df[\"NEW_ASSISTPUTOUTS\"] = df[\"ASSISTS\"] * df[\"PUTOUTS\"]\n",
    "df[\"NEW_RUNS\"] = df[\"HMRUN\"] * df[\"RUNS\"]\n",
    "df[\"NEW_HITRUNS\"] = df[\"HITS\"] * df[\"RUNS\"]"
   ],
   "metadata": {
    "collapsed": false,
    "pycharm": {
     "name": "#%%\n"
    }
   }
  },
  {
   "cell_type": "code",
   "execution_count": 657,
   "outputs": [
    {
     "name": "stdout",
     "output_type": "stream",
     "text": [
      "Observations: 263\n",
      "Variables: 40\n",
      "cat_cols: 3\n",
      "num_cols: 37\n",
      "cat_but_car: 0\n",
      "num_but_cat: 3\n"
     ]
    }
   ],
   "source": [
    "cat_cols, num_cols, cat_but_car = grab_col_names(df)"
   ],
   "metadata": {
    "collapsed": false,
    "pycharm": {
     "name": "#%%\n"
    }
   }
  },
  {
   "cell_type": "code",
   "execution_count": 658,
   "outputs": [],
   "source": [
    "X = df.drop(\"SALARY\",axis=1)\n",
    "y = df[\"SALARY\"]"
   ],
   "metadata": {
    "collapsed": false,
    "pycharm": {
     "name": "#%%\n"
    }
   }
  },
  {
   "cell_type": "code",
   "execution_count": 659,
   "outputs": [],
   "source": [
    "X_train, X_test, y_train, y_test = train_test_split(X, y, test_size=0.20, random_state=1)"
   ],
   "metadata": {
    "collapsed": false,
    "pycharm": {
     "name": "#%%\n"
    }
   }
  },
  {
   "cell_type": "markdown",
   "source": [
    "## Finding the best parameters"
   ],
   "metadata": {
    "collapsed": false,
    "pycharm": {
     "name": "#%% md\n"
    }
   }
  },
  {
   "cell_type": "code",
   "execution_count": 660,
   "outputs": [],
   "source": [
    "lightgbm_params = {\"learning_rate\": [0.01, 0.1],\n",
    "                   \"max_depth\": [3, 8, 10],\n",
    "                   \"n_estimators\": [50, 100, 500, 1000],\n",
    "                   \"colsample_bytree\": [1, 0.25, 0.5, 0.7]}"
   ],
   "metadata": {
    "collapsed": false,
    "pycharm": {
     "name": "#%%\n"
    }
   }
  },
  {
   "cell_type": "code",
   "execution_count": 661,
   "outputs": [
    {
     "name": "stdout",
     "output_type": "stream",
     "text": [
      "Fitting 5 folds for each of 96 candidates, totalling 480 fits\n"
     ]
    },
    {
     "data": {
      "text/plain": "{'colsample_bytree': 0.5,\n 'learning_rate': 0.01,\n 'max_depth': 3,\n 'n_estimators': 1000}"
     },
     "execution_count": 661,
     "metadata": {},
     "output_type": "execute_result"
    }
   ],
   "source": [
    "lightgbm_best_grid = GridSearchCV(lightGBM_model, lightgbm_params, cv=5, n_jobs=-1, verbose=True).fit(X, y)\n",
    "lightgbm_best_grid.best_params_"
   ],
   "metadata": {
    "collapsed": false,
    "pycharm": {
     "name": "#%%\n"
    }
   }
  },
  {
   "cell_type": "code",
   "execution_count": 662,
   "outputs": [],
   "source": [
    "lightgbm_final = lightGBM_model.set_params(**lightgbm_best_grid.best_params_, random_state=1).fit(X, y)"
   ],
   "metadata": {
    "collapsed": false,
    "pycharm": {
     "name": "#%%\n"
    }
   }
  },
  {
   "cell_type": "markdown",
   "source": [
    "## Testing final model"
   ],
   "metadata": {
    "collapsed": false,
    "pycharm": {
     "name": "#%% md\n"
    }
   }
  },
  {
   "cell_type": "code",
   "execution_count": 663,
   "outputs": [
    {
     "name": "stdout",
     "output_type": "stream",
     "text": [
      "LGBM Final Model Test RMSE: 136.07175577272145\n"
     ]
    }
   ],
   "source": [
    "y_pred = lightgbm_final.predict(X_test)\n",
    "print(\"LGBM Final Model Test RMSE:\", np.sqrt(mean_squared_error(y_test, y_pred)))"
   ],
   "metadata": {
    "collapsed": false,
    "pycharm": {
     "name": "#%%\n"
    }
   }
  },
  {
   "cell_type": "code",
   "execution_count": 664,
   "outputs": [
    {
     "data": {
      "text/plain": "135.93642736601484"
     },
     "execution_count": 664,
     "metadata": {},
     "output_type": "execute_result"
    }
   ],
   "source": [
    "y_pred_train = lightgbm_final.predict(X_train)\n",
    "rmse_train = np.sqrt(mean_squared_error(y_train, y_pred_train))\n",
    "rmse_train"
   ],
   "metadata": {
    "collapsed": false,
    "pycharm": {
     "name": "#%%\n"
    }
   }
  },
  {
   "cell_type": "code",
   "execution_count": 665,
   "outputs": [
    {
     "data": {
      "text/plain": "<Figure size 720x720 with 1 Axes>",
      "image/png": "[encoded data removed]"
     },
     "metadata": {},
     "output_type": "display_data"
    }
   ],
   "source": [
    "plot_importance(lightgbm_final,X)"
   ],
   "metadata": {
    "collapsed": false,
    "pycharm": {
     "name": "#%%\n"
    }
   }
  },
  {
   "cell_type": "markdown",
   "source": [
    "## Saving the model"
   ],
   "metadata": {
    "collapsed": false,
    "pycharm": {
     "name": "#%% md\n"
    }
   }
  },
  {
   "cell_type": "code",
   "execution_count": 666,
   "outputs": [],
   "source": [
    "import pickle\n",
    "pickle.dump(lightgbm_final, open(\"lightgbm_final_model.pkl\", 'wb'))"
   ],
   "metadata": {
    "collapsed": false,
    "pycharm": {
     "name": "#%%\n"
    }
   }
  }
 ],
 "metadata": {
  "kernelspec": {
   "display_name": "Python 3",
   "language": "python",
   "name": "python3"
  },
  "language_info": {
   "codemirror_mode": {
    "name": "ipython",
    "version": 2
   },
   "file_extension": ".py",
   "mimetype": "text/x-python",
   "name": "python",
   "nbconvert_exporter": "python",
   "pygments_lexer": "ipython2",
   "version": "2.7.6"
  }
 },
 "nbformat": 4,
 "nbformat_minor": 0
}